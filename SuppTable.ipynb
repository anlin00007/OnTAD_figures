{
 "cells": [
  {
   "cell_type": "code",
   "execution_count": 1,
   "metadata": {
    "collapsed": true
   },
   "outputs": [],
   "source": [
    "import matplotlib.pyplot as plt\n",
    "import numpy as np\n",
    "import pandas\n",
    "from collections import Counter\n",
    "from matplotlib.patches import Rectangle\n",
    "import seaborn as sns\n",
    "import urllib2"
   ]
  },
  {
   "cell_type": "code",
   "execution_count": 2,
   "metadata": {
    "collapsed": true
   },
   "outputs": [],
   "source": [
    "nbtable = np.zeros((6,6))"
   ]
  },
  {
   "cell_type": "code",
   "execution_count": 3,
   "metadata": {
    "collapsed": true
   },
   "outputs": [],
   "source": [
    "for chrnum in range(1,23):\n",
    "    OnTAD_raw = pandas.read_table(urllib2.urlopen('http://bx.psu.edu/~lua137/OnTAD/output/OnTAD/Gm12878/10kb/OnTAD_KRnorm_pen0.1_max200_hsz5_chr'+str(chrnum)+'.tad'),sep='\\t',header=None)\n",
    "    OnTAD_rawa = OnTAD_raw.loc[(OnTAD_raw[2]>0),:].values[:,0:2]-1\n",
    "    OnTAD_rawb = np.unique(OnTAD_rawa.flatten())\n",
    "    for i in OnTAD_rawb:\n",
    "        nbtable[min(5,np.count_nonzero( OnTAD_rawa[:,0] == i)), min(5,np.count_nonzero( OnTAD_rawa[:,1] == i))] +=1"
   ]
  },
  {
   "cell_type": "code",
   "execution_count": 4,
   "metadata": {
    "collapsed": false
   },
   "outputs": [
    {
     "name": "stdout",
     "output_type": "stream",
     "text": [
      "[[   0 1297  378  110   23    9]\n",
      " [1209 2108 1060  375   77   19]\n",
      " [ 428 1023  524  214   80   27]\n",
      " [ 100  413  247  136   41    7]\n",
      " [  22   71   61   35   12    3]\n",
      " [   7   24   17   17    5    1]]\n"
     ]
    }
   ],
   "source": [
    "print nbtable.astype(int)"
   ]
  },
  {
   "cell_type": "code",
   "execution_count": 5,
   "metadata": {
    "collapsed": true
   },
   "outputs": [],
   "source": [
    "from scipy.stats import chi2_contingency"
   ]
  },
  {
   "cell_type": "code",
   "execution_count": 6,
   "metadata": {
    "collapsed": false
   },
   "outputs": [
    {
     "data": {
      "text/plain": [
       "(946.28006352159866,\n",
       " 1.427958816205889e-183,\n",
       " 25,\n",
       " array([[  3.15208448e+02,   8.81012967e+02,   4.08200295e+02,\n",
       "           1.58318173e+02,   4.24799607e+01,   1.17801572e+01],\n",
       "        [  8.41018468e+02,   2.35066090e+03,   1.08913320e+03,\n",
       "           4.22414145e+02,   1.13342240e+02,   3.14310413e+01],\n",
       "        [  3.98304126e+02,   1.11326680e+03,   5.15810609e+02,\n",
       "           2.00054224e+02,   5.36785855e+01,   1.48856582e+01],\n",
       "        [  1.63762672e+02,   4.57719450e+02,   2.12075442e+02,\n",
       "           8.22522593e+01,   2.20699411e+01,   6.12023576e+00],\n",
       "        [  3.53893910e+01,   9.89139489e+01,   4.58298625e+01,\n",
       "           1.77748527e+01,   4.76935167e+00,   1.32259332e+00],\n",
       "        [  1.23168959e+01,   3.44259332e+01,   1.59505894e+01,\n",
       "           6.18634578e+00,   1.65992141e+00,   4.60314342e-01]]))"
      ]
     },
     "execution_count": 6,
     "metadata": {},
     "output_type": "execute_result"
    }
   ],
   "source": [
    "chi2_contingency(nbtable)"
   ]
  },
  {
   "cell_type": "code",
   "execution_count": 14,
   "metadata": {
    "collapsed": true
   },
   "outputs": [],
   "source": [
    "from statsmodels.stats.proportion import proportions_ztest"
   ]
  },
  {
   "cell_type": "code",
   "execution_count": 15,
   "metadata": {
    "collapsed": false
   },
   "outputs": [],
   "source": [
    "count = np.sum(nbtable.diagonal())\n",
    "nobs = np.sum(nbtable)\n",
    "value = .5\n",
    "stat, pval = proportions_ztest(count, nobs, value, alternative='smaller')"
   ]
  },
  {
   "cell_type": "code",
   "execution_count": 17,
   "metadata": {
    "collapsed": false
   },
   "outputs": [
    {
     "name": "stdout",
     "output_type": "stream",
     "text": [
      "0.0\n"
     ]
    }
   ],
   "source": [
    "print pval"
   ]
  }
 ],
 "metadata": {
  "kernelspec": {
   "display_name": "Python [default]",
   "language": "python",
   "name": "python2"
  },
  "language_info": {
   "codemirror_mode": {
    "name": "ipython",
    "version": 2
   },
   "file_extension": ".py",
   "mimetype": "text/x-python",
   "name": "python",
   "nbconvert_exporter": "python",
   "pygments_lexer": "ipython2",
   "version": "2.7.12"
  }
 },
 "nbformat": 4,
 "nbformat_minor": 1
}
