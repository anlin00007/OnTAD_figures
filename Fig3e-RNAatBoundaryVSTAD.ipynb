{
 "cells": [
  {
   "cell_type": "code",
   "execution_count": 1,
   "metadata": {
    "collapsed": true
   },
   "outputs": [],
   "source": [
    "import matplotlib.pyplot as plt\n",
    "import sys\n",
    "import numpy as np\n",
    "import pandas\n",
    "from collections import Counter\n",
    "from matplotlib.patches import Rectangle\n",
    "import seaborn as sns\n",
    "import urllib2\n",
    "import scipy.stats as stats"
   ]
  },
  {
   "cell_type": "code",
   "execution_count": 2,
   "metadata": {
    "collapsed": true
   },
   "outputs": [],
   "source": [
    "def domainlevel(domain,ll):\n",
    "        domain=domain.astype(int)\n",
    "        for o in range(0,np.shape(domain)[0]):\n",
    "                for p in range(domain[o,0],(domain[o,1]+1)):\n",
    "                        ll[p]+=1\n",
    "        return ll\n",
    "\n",
    "def getlevel(tads):\n",
    "    ftads = tads[(tads[:,1]-tads[:,0]).argsort()[::-1],:]\n",
    "    rtads = tads[(tads[:,1]-tads[:,0]).argsort(),:]\n",
    "    flevel = np.ones(len(tads))\n",
    "    rlevel = np.ones(len(tads))\n",
    "    for i in range(0,len(tads)):\n",
    "        rn = []\n",
    "        fn = []\n",
    "        for j in range(0,i):\n",
    "            if rtads[i,0]<=rtads[j,0] and rtads[i,1]>=rtads[j,1]:\n",
    "               rn.append(rlevel[j])\n",
    "            if ftads[i,0]>=ftads[j,0] and ftads[i,1]<=ftads[j,1]:\n",
    "               fn.append(flevel[j])\n",
    "        if len(rn)>=1:\n",
    "           rlevel[i] = max(rn)+1\n",
    "        if len(fn)>=1:\n",
    "           flevel[i] = max(fn)+1\n",
    "    return (np.column_stack((ftads,flevel,rlevel[::-1])))\n",
    "\n",
    "def boundarylevel(tad):\n",
    "    leftb,leftl = np.unique(tad[:,0],return_counts=True)\n",
    "    rightb, rightl = np.unique(tad[:,1],return_counts=True)\n",
    "    allb = np.copy(leftb)\n",
    "    alll = np.copy(leftl)\n",
    "    for i in range(0,len(rightb)):\n",
    "        ind = np.where(leftb==rightb[i])[0]\n",
    "        if len(ind) > 0:\n",
    "            if rightl[i]>leftl[ind[0]]:\n",
    "                alll[ind[0]]=rightl[i]\n",
    "        else:\n",
    "            allb=np.append(allb,rightb[i])\n",
    "            alll=np.append(alll,rightl[i])\n",
    "    return (allb,alll)"
   ]
  },
  {
   "cell_type": "code",
   "execution_count": 3,
   "metadata": {
    "collapsed": true
   },
   "outputs": [],
   "source": [
    "#####Load the FPKM file (ENCODE)####\n",
    "celltype = 'Gm12878'\n",
    "resn='10kb'\n",
    "res = 10000\n",
    "chrs_length = [249250621,243199373,198022430,191154276,180915260,171115067,159138663,146364022,141213431,135534747,135006516,133851895,115169878,107349540,102531392,90354753,81195210,78077248,59128983,63025520,48129895,51304566]\n",
    "FPKM = pandas.read_table(urllib2.urlopen('http://bx.psu.edu/~lua137/OnTAD/data/gmk.merged.all.bed'),sep='\\t',header=None)"
   ]
  },
  {
   "cell_type": "code",
   "execution_count": 4,
   "metadata": {
    "collapsed": true
   },
   "outputs": [],
   "source": [
    "def G_B_intersect (genetable, blist):\n",
    "    expr = np.zeros(len(blist))\n",
    "    for i in range(0,len(blist)):\n",
    "        st = int(blist[i])*res\n",
    "        ed = int(blist[i]+1)*res\n",
    "        iexpr = []\n",
    "        for j in range(0,genetable.shape[0]): \n",
    "            if min(genetable.iloc[j,2],ed)-max(genetable.iloc[j,1],st) >0:\n",
    "                iexpr.append(genetable.iloc[j,4])\n",
    "        if len(iexpr)>0:\n",
    "            expr[i]=sum(iexpr)/float(len(iexpr))\n",
    "    return expr"
   ]
  },
  {
   "cell_type": "code",
   "execution_count": 11,
   "metadata": {
    "collapsed": true
   },
   "outputs": [],
   "source": [
    "l1b_expr = np.array([])\n",
    "l2b_expr = np.array([])\n",
    "l3b_expr = np.array([])\n",
    "l4b_expr = np.array([])\n",
    "l5b_expr = np.array([])\n",
    "lsolob_expr = np.array([])\n",
    "\n",
    "l1t_expr = np.array([])\n",
    "l2t_expr = np.array([])\n",
    "l3t_expr = np.array([])\n",
    "l4t_expr = np.array([])\n",
    "l5t_expr = np.array([])\n",
    "lsolot_expr = np.array([])\n",
    "\n",
    "ol1b_expr = np.array([])\n",
    "ol2b_expr = np.array([])\n",
    "ol3b_expr = np.array([])\n",
    "ol4b_expr = np.array([])\n",
    "ol5b_expr = np.array([])"
   ]
  },
  {
   "cell_type": "code",
   "execution_count": 12,
   "metadata": {},
   "outputs": [
    {
     "name": "stdout",
     "output_type": "stream",
     "text": [
      "done with chr1\n",
      "done with chr2\n",
      "done with chr3\n",
      "done with chr4\n",
      "done with chr5\n",
      "done with chr6\n",
      "done with chr7\n",
      "done with chr8\n",
      "done with chr9\n",
      "done with chr10\n",
      "done with chr11\n",
      "done with chr12\n",
      "done with chr13\n",
      "done with chr14\n",
      "done with chr15\n",
      "done with chr16\n",
      "done with chr17\n",
      "done with chr18\n",
      "done with chr19\n",
      "done with chr20\n",
      "done with chr21\n",
      "done with chr22\n"
     ]
    }
   ],
   "source": [
    "for chrnum in range(1,23):\n",
    "        geneD = FPKM[FPKM[0]=='chr'+str(chrnum)]\n",
    "        OnTAD_raw = pandas.read_table(urllib2.urlopen('http://bx.psu.edu/~lua137/OnTAD/output/OnTAD/Gm12878/10kb/OnTADtopdom_KRnorm_pen0.1_max200_chr'+str(chrnum)+'.tad'),sep='\\t',header=None)\n",
    "        OnTAD_rawa = OnTAD_raw.loc[(OnTAD_raw[2]>0),:].values[:,0:2]-1\n",
    "        OnTAD_rawb = np.unique(OnTAD_rawa.flatten())\n",
    "        OnTAD_rawfr = getlevel(OnTAD_rawa)\n",
    "        tadarea = np.asarray(domainlevel(OnTAD_rawa,[0]*(chrs_length[chrnum-1]/res+1)))\n",
    "        OnTAD_rawsolo = OnTAD_rawfr[(OnTAD_rawfr[:,2]==1)&(OnTAD_rawfr[:,3]==1),0:2]\n",
    "        soloarea = np.asarray(domainlevel(OnTAD_rawsolo,[0]*(chrs_length[chrnum-1]/res+1)))\n",
    "        OnTAD_rawsoloa = np.intersect1d(np.where(tadarea==1)[0],np.where(soloarea==1)[0])\n",
    "        OnTAD_raw1 = OnTAD_rawfr[(OnTAD_rawfr[:,2]==1)&(OnTAD_rawfr[:,3]>1),0:2]\n",
    "        l1area = np.asarray(domainlevel(OnTAD_raw1,[0]*(chrs_length[chrnum-1]/res+1)))\n",
    "        OnTAD_raw1a = OnTAD_rawfr[(OnTAD_rawfr[:,2]==1)&(OnTAD_rawfr[:,3]>1),0:2]\n",
    "        OnTAD_raw2a = OnTAD_rawfr[OnTAD_rawfr[:,2]==2,0:2]\n",
    "        OnTAD_raw3a = OnTAD_rawfr[OnTAD_rawfr[:,2]==3,0:2]\n",
    "        OnTAD_raw4a = OnTAD_rawfr[OnTAD_rawfr[:,2]==4,0:2]\n",
    "        OnTAD_raw5a = OnTAD_rawfr[OnTAD_rawfr[:,2]>=5,0:2]\n",
    "        OnTAD_rawb = np.unique(OnTAD_rawa.flatten())\n",
    "        OnTAD_raw1b = np.unique(OnTAD_raw1a.flatten())\n",
    "        l1b_expr = np.append(l1b_expr,G_B_intersect(geneD,OnTAD_raw1b))\n",
    "        OnTAD_raw2b = np.unique(OnTAD_raw2a.flatten())\n",
    "        l2b_expr = np.append(l2b_expr,G_B_intersect(geneD,OnTAD_raw2b))\n",
    "        OnTAD_raw3b = np.unique(OnTAD_raw3a.flatten())\n",
    "        l3b_expr = np.append(l3b_expr,G_B_intersect(geneD,OnTAD_raw3b))\n",
    "        OnTAD_raw4b = np.unique(OnTAD_raw4a.flatten())\n",
    "        l4b_expr = np.append(l4b_expr,G_B_intersect(geneD,OnTAD_raw4b))\n",
    "        OnTAD_raw5b = np.unique(OnTAD_raw5a.flatten())\n",
    "        l5b_expr = np.append(l5b_expr,G_B_intersect(geneD,OnTAD_raw5b))\n",
    "        OnTAD_rawsolob = np.unique(OnTAD_rawsolo.flatten())\n",
    "        lsolob_expr = np.append(lsolob_expr,G_B_intersect(geneD,OnTAD_rawsolob))\n",
    "        OnTAD_raw1all = np.intersect1d(np.where(tadarea==1)[0],np.where(l1area==1)[0])\n",
    "        OnTAD_raw2all = np.where(tadarea==2)[0]\n",
    "        OnTAD_raw3all = np.where(tadarea==3)[0]\n",
    "        OnTAD_raw4all = np.where(tadarea==4)[0]\n",
    "        OnTAD_raw5all = np.where(tadarea>=5)[0]\n",
    "\n",
    "        OnTAD_raw1tad = np.setdiff1d(OnTAD_raw1all,OnTAD_rawb)\n",
    "        l1t_expr = np.append(l1t_expr,G_B_intersect(geneD,OnTAD_raw1tad))\n",
    "        OnTAD_raw2tad = np.setdiff1d(OnTAD_raw2all,OnTAD_rawb)\n",
    "        l2t_expr = np.append(l2t_expr,G_B_intersect(geneD,OnTAD_raw2tad))\n",
    "        OnTAD_raw3tad = np.setdiff1d(OnTAD_raw3all,OnTAD_rawb)\n",
    "        l3t_expr = np.append(l3t_expr,G_B_intersect(geneD,OnTAD_raw3tad))\n",
    "        OnTAD_raw4tad = np.setdiff1d(OnTAD_raw4all,OnTAD_rawb)\n",
    "        l4t_expr = np.append(l4t_expr,G_B_intersect(geneD,OnTAD_raw4tad))\n",
    "        OnTAD_raw5tad = np.setdiff1d(OnTAD_raw5all,OnTAD_rawb)\n",
    "        l5t_expr = np.append(l5t_expr,G_B_intersect(geneD,OnTAD_raw5tad))\n",
    "        OnTAD_rawsolotad = np.setdiff1d(OnTAD_rawsoloa,OnTAD_rawb)\n",
    "        lsolot_expr = np.append(lsolot_expr,G_B_intersect(geneD,OnTAD_rawsolotad))\n",
    "        OnTAD_rawnob = np.where(tadarea==0)[0]\n",
    "        \n",
    "        OnTAD_rawallb, OnTAD_rawalll = boundarylevel(OnTAD_rawfr)\n",
    "        OnTAD_rawo1b = OnTAD_rawallb[OnTAD_rawalll==1]\n",
    "        ol1b_expr = np.append(ol1b_expr,G_B_intersect(geneD,OnTAD_raw1b))\n",
    "        OnTAD_rawo2b = OnTAD_rawallb[OnTAD_rawalll==2]\n",
    "        ol2b_expr = np.append(ol2b_expr,G_B_intersect(geneD,OnTAD_raw2b))\n",
    "        OnTAD_rawo3b = OnTAD_rawallb[OnTAD_rawalll==3]\n",
    "        ol3b_expr = np.append(ol3b_expr,G_B_intersect(geneD,OnTAD_raw3b))\n",
    "        OnTAD_rawo4b = OnTAD_rawallb[OnTAD_rawalll==4]\n",
    "        ol4b_expr = np.append(ol4b_expr,G_B_intersect(geneD,OnTAD_raw4b))\n",
    "        OnTAD_rawo5b = OnTAD_rawallb[OnTAD_rawalll==5]\n",
    "        ol5b_expr = np.append(ol5b_expr,G_B_intersect(geneD,OnTAD_raw5b))\n",
    "        \n",
    "        \n",
    "        print 'done with chr'+str(chrnum)"
   ]
  },
  {
   "cell_type": "code",
   "execution_count": 13,
   "metadata": {
    "collapsed": true
   },
   "outputs": [],
   "source": [
    "TADball = np.row_stack((np.column_stack((l1b_expr,np.array(['level1']*len(l1b_expr)),np.array(['atBoundary']*len(l1b_expr)))),\n",
    "          np.column_stack((l2b_expr,np.array(['level2']*len(l2b_expr)),np.array(['atBoundary']*len(l2b_expr)))),\n",
    "          np.column_stack((l3b_expr,np.array(['level3']*len(l3b_expr)),np.array(['atBoundary']*len(l3b_expr)))),\n",
    "          np.column_stack((l4b_expr,np.array(['level4']*len(l4b_expr)),np.array(['atBoundary']*len(l4b_expr)))),\n",
    "          np.column_stack((l5b_expr,np.array(['level5']*len(l5b_expr)),np.array(['atBoundary']*len(l5b_expr))))))"
   ]
  },
  {
   "cell_type": "code",
   "execution_count": 14,
   "metadata": {
    "collapsed": true
   },
   "outputs": [],
   "source": [
    "TADIall = np.row_stack((np.column_stack((l1t_expr,np.array(['level1']*len(l1t_expr)),np.array(['withinTAD']*len(l1t_expr)))),\n",
    "          np.column_stack((l2t_expr,np.array(['level2']*len(l2t_expr)),np.array(['withinTAD']*len(l2t_expr)))),\n",
    "          np.column_stack((l3t_expr,np.array(['level3']*len(l3t_expr)),np.array(['withinTAD']*len(l3t_expr)))),\n",
    "          np.column_stack((l4t_expr,np.array(['level4']*len(l4t_expr)),np.array(['withinTAD']*len(l4t_expr)))),\n",
    "          np.column_stack((l5t_expr,np.array(['level5']*len(l5t_expr)),np.array(['withinTAD']*len(l5t_expr))))))"
   ]
  },
  {
   "cell_type": "code",
   "execution_count": 15,
   "metadata": {
    "collapsed": true
   },
   "outputs": [],
   "source": [
    "alltable = pandas.DataFrame(data=np.row_stack((TADIall,TADball)),columns=['FPKM','Level','Cate'])\n",
    "alltable.FPKM = alltable.FPKM.astype(float)"
   ]
  },
  {
   "cell_type": "code",
   "execution_count": 16,
   "metadata": {},
   "outputs": [
    {
     "data": {
      "image/png": "[encoded data removed]",
      "text/plain": [
       "<matplotlib.figure.Figure at 0x11b205c0>"
      ]
     },
     "metadata": {},
     "output_type": "display_data"
    }
   ],
   "source": [
    "###Plot Fig 3e####\n",
    "fig, ax = plt.subplots()\n",
    "g = sns.boxplot(x=\"Level\", y=\"FPKM\", hue=\"Cate\", data=alltable, palette=\"Set1\",showfliers=False)\n",
    "ax.set_ylabel('Avg. RNA-seq signal (FPKM)',{'color': 'k', 'fontsize': 14})\n",
    "ax.set_xlabel('')\n",
    "l = ax.legend()\n",
    "l.set_title('')\n",
    "plt.legend(loc='best')\n",
    "plt.show()"
   ]
  },
  {
   "cell_type": "code",
   "execution_count": 17,
   "metadata": {},
   "outputs": [
    {
     "data": {
      "text/plain": [
       "<matplotlib.figure.Figure at 0xe9a2940>"
      ]
     },
     "metadata": {},
     "output_type": "display_data"
    },
    {
     "data": {
      "image/png": "[encoded data removed]",
      "text/plain": [
       "<matplotlib.figure.Figure at 0xe9a2518>"
      ]
     },
     "metadata": {},
     "output_type": "display_data"
    }
   ],
   "source": [
    "###Plot Fig 4c###\n",
    "plt.figure(6)\n",
    "fig,ax = plt.subplots(1)\n",
    "ax.boxplot([ol1b_expr,ol2b_expr,ol3b_expr,ol4b_expr,ol5b_expr],labels=['level1','level2','level3','level4','level5'],showfliers=False)\n",
    "plt.show()"
   ]
  },
  {
   "cell_type": "code",
   "execution_count": null,
   "metadata": {
    "collapsed": true
   },
   "outputs": [],
   "source": [
    "###test the significance between RNA expr and boundary categories####\n",
    "stats.f_oneway(ol1b_expr,ol2b_expr,ol3b_expr,ol4b_expr,ol5b_expr)"
   ]
  }
 ],
 "metadata": {
  "kernelspec": {
   "display_name": "Python 2",
   "language": "python",
   "name": "python2"
  },
  "language_info": {
   "codemirror_mode": {
    "name": "ipython",
    "version": 2
   },
   "file_extension": ".py",
   "mimetype": "text/x-python",
   "name": "python",
   "nbconvert_exporter": "python",
   "pygments_lexer": "ipython2",
   "version": "2.7.13"
  }
 },
 "nbformat": 4,
 "nbformat_minor": 2
}
