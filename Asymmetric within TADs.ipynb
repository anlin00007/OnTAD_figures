{
 "cells": [
  {
   "cell_type": "code",
   "execution_count": 1,
   "metadata": {
    "collapsed": true
   },
   "outputs": [],
   "source": [
    "import matplotlib.pyplot as plt\n",
    "import numpy as np\n",
    "import pandas\n",
    "from collections import Counter\n",
    "from matplotlib.patches import Rectangle\n",
    "import seaborn as sns\n",
    "import urllib2"
   ]
  },
  {
   "cell_type": "code",
   "execution_count": 35,
   "metadata": {
    "collapsed": true
   },
   "outputs": [],
   "source": [
    "nbtable = []"
   ]
  },
  {
   "cell_type": "code",
   "execution_count": 36,
   "metadata": {
    "collapsed": false
   },
   "outputs": [],
   "source": [
    "for chrnum in range(1,23):\n",
    "    OnTAD_raw = pandas.read_table(urllib2.urlopen('http://bx.psu.edu/~lua137/OnTAD/output/OnTAD/Gm12878/10kb/OnTAD_KRnorm_pen0.1_max200_hsz5_chr'+str(chrnum)+'.tad'),sep='\\t',header=None)\n",
    "    OnTAD_rawa_l1 = OnTAD_raw.loc[(OnTAD_raw[2]==1),:].values[:,0:2]-1\n",
    "    OnTAD_rawa = OnTAD_raw.loc[(OnTAD_raw[2]>0),:].values[:,0:2]-1\n",
    "    for tad in OnTAD_rawa_l1:\n",
    "        leftbTAD = np.count_nonzero( OnTAD_rawa[:,0] == tad[0])\n",
    "        rightbTAD = np.count_nonzero( OnTAD_rawa[:,1] == tad[1])\n",
    "        if leftbTAD == rightbTAD == 1:\n",
    "            continue\n",
    "        else:\n",
    "            nbtable.append([leftbTAD, rightbTAD])"
   ]
  },
  {
   "cell_type": "code",
   "execution_count": 38,
   "metadata": {
    "collapsed": false
   },
   "outputs": [],
   "source": [
    "final = np.asarray(nbtable)"
   ]
  },
  {
   "cell_type": "code",
   "execution_count": 41,
   "metadata": {
    "collapsed": false
   },
   "outputs": [],
   "source": [
    "from statsmodels.stats.proportion import proportions_ztest"
   ]
  },
  {
   "cell_type": "code",
   "execution_count": 61,
   "metadata": {
    "collapsed": true
   },
   "outputs": [],
   "source": [
    "count = np.sum(final[:,0]==final[:,1])\n",
    "nobs = final.shape[0]\n",
    "value = .5\n",
    "stat, pval = proportions_ztest(count, nobs, value, alternative='smaller')"
   ]
  },
  {
   "cell_type": "code",
   "execution_count": 62,
   "metadata": {
    "collapsed": false
   },
   "outputs": [
    {
     "name": "stdout",
     "output_type": "stream",
     "text": [
      "6.92004971686e-77\n"
     ]
    }
   ],
   "source": [
    "print pval"
   ]
  }
 ],
 "metadata": {
  "kernelspec": {
   "display_name": "Python [default]",
   "language": "python",
   "name": "python2"
  },
  "language_info": {
   "codemirror_mode": {
    "name": "ipython",
    "version": 2
   },
   "file_extension": ".py",
   "mimetype": "text/x-python",
   "name": "python",
   "nbconvert_exporter": "python",
   "pygments_lexer": "ipython2",
   "version": "2.7.12"
  }
 },
 "nbformat": 4,
 "nbformat_minor": 1
}
